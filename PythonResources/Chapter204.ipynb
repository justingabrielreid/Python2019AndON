{
 "cells": [
  {
   "cell_type": "markdown",
   "metadata": {},
   "source": [
    "# **Lists and Generators**"
   ]
  },
  {
   "cell_type": "code",
   "execution_count": 2,
   "metadata": {},
   "outputs": [],
   "source": [
    "#Importing everything\n",
    "import math, json, collections, itertools\n",
    "import numpy as np\n",
    "import matplotlib.pyplot as pp \n",
    "%matplotlib inline\n",
    "from mpl_toolkits.basemap import Basemap\n",
    "import geopy"
   ]
  },
  {
   "cell_type": "markdown",
   "metadata": {},
   "source": [
    "## Code and data needed from previous vid\n"
   ]
  },
  {
   "cell_type": "code",
   "execution_count": 5,
   "metadata": {},
   "outputs": [
    {
     "name": "stdout",
     "output_type": "stream",
     "text": [
      "[Errno 2] No such file or directory: 'EffcientPython/chapter2/02_04/'\n",
      "/Users/justinreid/PythonScripts/PythonResources/EffcientPython/chapter2/02_04\n"
     ]
    }
   ],
   "source": [
    "%cd EffcientPython/chapter2/02_04/"
   ]
  },
  {
   "cell_type": "code",
   "execution_count": 6,
   "metadata": {},
   "outputs": [],
   "source": [
    "cities, years = [],[]\n",
    "\n",
    "for game in open('games.txt','r'):\n",
    "    words = game.split()\n",
    "    \n",
    "    city = ' '.join(words[:-1])\n",
    "    year = words[-1].strip('()')\n",
    "    \n",
    "    cities.append(city)\n",
    "    years.append(year)\n",
    "    "
   ]
  },
  {
   "cell_type": "markdown",
   "metadata": {},
   "source": [
    "Geolocated olympic-city cooordinates from a JSON file"
   ]
  },
  {
   "cell_type": "code",
   "execution_count": 9,
   "metadata": {},
   "outputs": [
    {
     "data": {
      "text/plain": [
       "{'Helsinki': [24.9425683, 60.1674086],\n",
       " 'Berlin': [13.3888599, 52.5170365],\n",
       " 'Athens': [-82.1012554, 39.3292396],\n",
       " 'Barcelona': [2.1771353, 41.3825596],\n",
       " 'Stockholm': [18.0710935, 59.3251172],\n",
       " 'Rome': [12.6308541512038, 41.85233365],\n",
       " 'St Louis': [-90.1978888, 38.6272733],\n",
       " 'Rio': [-43.2093726, -22.9110136],\n",
       " 'Beijing': [116.391248, 39.9059631],\n",
       " 'Montreal': [-73.6125179, 45.497684],\n",
       " 'Tokyo': [139.294774527387, 34.2255804],\n",
       " 'Melbourne / Stockholm': [144.9631608, -37.8142175],\n",
       " 'Seoul': [126.9782914, 37.5666791],\n",
       " 'London': [-0.1276473, 51.5073219],\n",
       " 'Sydney': [151.210047, -33.8679573],\n",
       " 'Mexico': [-99.1333415, 19.4326009],\n",
       " 'Antwerp': [4.3997081, 51.2211097],\n",
       " 'Moscow': [37.6174976, 55.7506828],\n",
       " 'Los Angeles': [-118.2439408, 34.0543942],\n",
       " 'Munich': [11.5753822, 48.1371079],\n",
       " 'Atlanta': [-84.3901848, 33.7490987],\n",
       " 'Amsterdam': [4.89797550561798, 52.3745403],\n",
       " 'Paris': [2.3514992, 48.8566101]}"
      ]
     },
     "execution_count": 9,
     "metadata": {},
     "output_type": "execute_result"
    }
   ],
   "source": [
    "coordinates_by_city = json.load(open('coords.json', 'r'))\n",
    "coordinates_by_city"
   ]
  },
  {
   "cell_type": "code",
   "execution_count": 13,
   "metadata": {},
   "outputs": [
    {
     "data": {
      "text/plain": [
       "['London : 1948',\n",
       " 'Helsinki : 1952',\n",
       " 'Melbourne / Stockholm : 1956',\n",
       " 'Rome : 1960',\n",
       " 'Tokyo : 1964',\n",
       " 'Mexico : 1968',\n",
       " 'Munich : 1972',\n",
       " 'Montreal : 1976',\n",
       " 'Moscow : 1980',\n",
       " 'Los Angeles : 1984',\n",
       " 'Seoul : 1988',\n",
       " 'Barcelona : 1992',\n",
       " 'Atlanta : 1996',\n",
       " 'Sydney : 2000',\n",
       " 'Athens : 2004',\n",
       " 'Beijing : 2008',\n",
       " 'London : 2012',\n",
       " 'Rio : 2016']"
      ]
     },
     "execution_count": 13,
     "metadata": {},
     "output_type": "execute_result"
    }
   ],
   "source": [
    "postWW2OlympicGames = []\n",
    "for city,year in zip(cities,years):\n",
    "    if int(year) > 1945:\n",
    "        postWW2OlympicGames.append(city + \" : \" + year)\n",
    "\n",
    "postWW2OlympicGames\n",
    "        "
   ]
  },
  {
   "cell_type": "code",
   "execution_count": 26,
   "metadata": {},
   "outputs": [],
   "source": [
    "#creating a dictionary\n",
    "\n",
    "cities_by_year = {year: city for city, year in zip(cities, years)}"
   ]
  },
  {
   "cell_type": "code",
   "execution_count": 27,
   "metadata": {},
   "outputs": [
    {
     "data": {
      "text/plain": [
       "{'1896': 'Athens',\n",
       " '1900': 'Paris',\n",
       " '1904': 'St Louis',\n",
       " '1908': 'London',\n",
       " '1912': 'Stockholm',\n",
       " '1920': 'Antwerp',\n",
       " '1924': 'Paris',\n",
       " '1928': 'Amsterdam',\n",
       " '1932': 'Los Angeles',\n",
       " '1936': 'Berlin',\n",
       " '1948': 'London',\n",
       " '1952': 'Helsinki',\n",
       " '1956': 'Melbourne / Stockholm',\n",
       " '1960': 'Rome',\n",
       " '1964': 'Tokyo',\n",
       " '1968': 'Mexico',\n",
       " '1972': 'Munich',\n",
       " '1976': 'Montreal',\n",
       " '1980': 'Moscow',\n",
       " '1984': 'Los Angeles',\n",
       " '1988': 'Seoul',\n",
       " '1992': 'Barcelona',\n",
       " '1996': 'Atlanta',\n",
       " '2000': 'Sydney',\n",
       " '2004': 'Athens',\n",
       " '2008': 'Beijing',\n",
       " '2012': 'London',\n",
       " '2016': 'Rio'}"
      ]
     },
     "execution_count": 27,
     "metadata": {},
     "output_type": "execute_result"
    }
   ],
   "source": [
    "cities_by_year"
   ]
  },
  {
   "cell_type": "code",
   "execution_count": 24,
   "metadata": {},
   "outputs": [],
   "source": [
    "#doing the long way to see if I understand it. \n",
    "\n",
    "cities_by_year2 = {}\n",
    "for year,city in zip(years,cities):\n",
    "    cities_by_year2[year] = city"
   ]
  },
  {
   "cell_type": "code",
   "execution_count": 25,
   "metadata": {},
   "outputs": [
    {
     "data": {
      "text/plain": [
       "{'1896': 'Athens',\n",
       " '1900': 'Paris',\n",
       " '1904': 'St Louis',\n",
       " '1908': 'London',\n",
       " '1912': 'Stockholm',\n",
       " '1920': 'Antwerp',\n",
       " '1924': 'Paris',\n",
       " '1928': 'Amsterdam',\n",
       " '1932': 'Los Angeles',\n",
       " '1936': 'Berlin',\n",
       " '1948': 'London',\n",
       " '1952': 'Helsinki',\n",
       " '1956': 'Melbourne / Stockholm',\n",
       " '1960': 'Rome',\n",
       " '1964': 'Tokyo',\n",
       " '1968': 'Mexico',\n",
       " '1972': 'Munich',\n",
       " '1976': 'Montreal',\n",
       " '1980': 'Moscow',\n",
       " '1984': 'Los Angeles',\n",
       " '1988': 'Seoul',\n",
       " '1992': 'Barcelona',\n",
       " '1996': 'Atlanta',\n",
       " '2000': 'Sydney',\n",
       " '2004': 'Athens',\n",
       " '2008': 'Beijing',\n",
       " '2012': 'London',\n",
       " '2016': 'Rio'}"
      ]
     },
     "execution_count": 25,
     "metadata": {},
     "output_type": "execute_result"
    }
   ],
   "source": [
    "cities_by_year2"
   ]
  },
  {
   "cell_type": "code",
   "execution_count": 28,
   "metadata": {},
   "outputs": [],
   "source": [
    "#set defintion\n",
    "cities_after_1930 = {city for year, city in cities_by_year.items() if int(year) > 1930}"
   ]
  },
  {
   "cell_type": "code",
   "execution_count": 29,
   "metadata": {},
   "outputs": [
    {
     "data": {
      "text/plain": [
       "{'Athens',\n",
       " 'Atlanta',\n",
       " 'Barcelona',\n",
       " 'Beijing',\n",
       " 'Berlin',\n",
       " 'Helsinki',\n",
       " 'London',\n",
       " 'Los Angeles',\n",
       " 'Melbourne / Stockholm',\n",
       " 'Mexico',\n",
       " 'Montreal',\n",
       " 'Moscow',\n",
       " 'Munich',\n",
       " 'Rio',\n",
       " 'Rome',\n",
       " 'Seoul',\n",
       " 'Sydney',\n",
       " 'Tokyo'}"
      ]
     },
     "execution_count": 29,
     "metadata": {},
     "output_type": "execute_result"
    }
   ],
   "source": [
    "cities_after_1930"
   ]
  },
  {
   "cell_type": "code",
   "execution_count": 31,
   "metadata": {},
   "outputs": [],
   "source": [
    "#Long Way of doing this\n",
    "\n",
    "cities_after_1940 = set()\n",
    "for year,city in cities_by_year.items():\n",
    "    if int(year) > 1940:\n",
    "        cities_after_1940.add(city)"
   ]
  },
  {
   "cell_type": "code",
   "execution_count": 32,
   "metadata": {},
   "outputs": [
    {
     "data": {
      "text/plain": [
       "{'Athens',\n",
       " 'Atlanta',\n",
       " 'Barcelona',\n",
       " 'Beijing',\n",
       " 'Helsinki',\n",
       " 'London',\n",
       " 'Los Angeles',\n",
       " 'Melbourne / Stockholm',\n",
       " 'Mexico',\n",
       " 'Montreal',\n",
       " 'Moscow',\n",
       " 'Munich',\n",
       " 'Rio',\n",
       " 'Rome',\n",
       " 'Seoul',\n",
       " 'Sydney',\n",
       " 'Tokyo'}"
      ]
     },
     "execution_count": 32,
     "metadata": {},
     "output_type": "execute_result"
    }
   ],
   "source": [
    "cities_after_1940"
   ]
  },
  {
   "cell_type": "code",
   "execution_count": null,
   "metadata": {},
   "outputs": [],
   "source": []
  }
 ],
 "metadata": {
  "kernelspec": {
   "display_name": "Python 3",
   "language": "python",
   "name": "python3"
  },
  "language_info": {
   "codemirror_mode": {
    "name": "ipython",
    "version": 3
   },
   "file_extension": ".py",
   "mimetype": "text/x-python",
   "name": "python",
   "nbconvert_exporter": "python",
   "pygments_lexer": "ipython3",
   "version": "3.7.4"
  }
 },
 "nbformat": 4,
 "nbformat_minor": 2
}
